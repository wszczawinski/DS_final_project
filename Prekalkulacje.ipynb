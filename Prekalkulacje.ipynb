{
 "cells": [
  {
   "cell_type": "code",
   "execution_count": 1,
   "metadata": {},
   "outputs": [],
   "source": [
    "import numpy as np\n",
    "import pandas as pd\n",
    "import os\n",
    "import matplotlib.pyplot as plt\n",
    "import datetime\n",
    "#import plotly.graph_objects as go"
   ]
  },
  {
   "cell_type": "code",
   "execution_count": 2,
   "metadata": {},
   "outputs": [
    {
     "name": "stdout",
     "output_type": "stream",
     "text": [
      "C:\\Users\\ksobo\\Desktop\\DS_final_project\n"
     ]
    }
   ],
   "source": [
    "#crate paths for csv files\n",
    "CURR_DIR = os.getcwd()\n",
    "print(CURR_DIR)\n",
    "zlecenia_path = os.path.join(CURR_DIR, 'Zlecenia.csv')\n",
    "godziny_path = os.path.join(CURR_DIR, 'Godziny.csv')"
   ]
  },
  {
   "cell_type": "code",
   "execution_count": 3,
   "metadata": {},
   "outputs": [],
   "source": [
    "#Zaciagniecie baz danych\n",
    "zlecenia_df = pd.read_csv(zlecenia_path, sep=';')\n",
    "godziny_df = pd.read_csv(godziny_path, sep=';')"
   ]
  },
  {
   "cell_type": "code",
   "execution_count": 4,
   "metadata": {
    "scrolled": true
   },
   "outputs": [
    {
     "data": {
      "text/html": [
       "<div>\n",
       "<style scoped>\n",
       "    .dataframe tbody tr th:only-of-type {\n",
       "        vertical-align: middle;\n",
       "    }\n",
       "\n",
       "    .dataframe tbody tr th {\n",
       "        vertical-align: top;\n",
       "    }\n",
       "\n",
       "    .dataframe thead th {\n",
       "        text-align: right;\n",
       "    }\n",
       "</style>\n",
       "<table border=\"1\" class=\"dataframe\">\n",
       "  <thead>\n",
       "    <tr style=\"text-align: right;\">\n",
       "      <th></th>\n",
       "      <th>No</th>\n",
       "      <th>Description</th>\n",
       "      <th>Weight_for_1</th>\n",
       "      <th>Quantity</th>\n",
       "      <th>Typ</th>\n",
       "      <th>Active</th>\n",
       "    </tr>\n",
       "  </thead>\n",
       "  <tbody>\n",
       "    <tr>\n",
       "      <th>0</th>\n",
       "      <td>1</td>\n",
       "      <td>2320</td>\n",
       "      <td>3360</td>\n",
       "      <td>1</td>\n",
       "      <td>B</td>\n",
       "      <td>0</td>\n",
       "    </tr>\n",
       "    <tr>\n",
       "      <th>1</th>\n",
       "      <td>2</td>\n",
       "      <td>2320</td>\n",
       "      <td>3360</td>\n",
       "      <td>1</td>\n",
       "      <td>B</td>\n",
       "      <td>0</td>\n",
       "    </tr>\n",
       "    <tr>\n",
       "      <th>2</th>\n",
       "      <td>3</td>\n",
       "      <td>3230</td>\n",
       "      <td>6400</td>\n",
       "      <td>1</td>\n",
       "      <td>B</td>\n",
       "      <td>0</td>\n",
       "    </tr>\n",
       "    <tr>\n",
       "      <th>3</th>\n",
       "      <td>4</td>\n",
       "      <td>2830</td>\n",
       "      <td>6230</td>\n",
       "      <td>2</td>\n",
       "      <td>C</td>\n",
       "      <td>0</td>\n",
       "    </tr>\n",
       "    <tr>\n",
       "      <th>4</th>\n",
       "      <td>5</td>\n",
       "      <td>2625</td>\n",
       "      <td>5000</td>\n",
       "      <td>2</td>\n",
       "      <td>C</td>\n",
       "      <td>0</td>\n",
       "    </tr>\n",
       "    <tr>\n",
       "      <th>...</th>\n",
       "      <td>...</td>\n",
       "      <td>...</td>\n",
       "      <td>...</td>\n",
       "      <td>...</td>\n",
       "      <td>...</td>\n",
       "      <td>...</td>\n",
       "    </tr>\n",
       "    <tr>\n",
       "      <th>1229</th>\n",
       "      <td>1230</td>\n",
       "      <td>1412</td>\n",
       "      <td>970</td>\n",
       "      <td>2</td>\n",
       "      <td>B</td>\n",
       "      <td>0</td>\n",
       "    </tr>\n",
       "    <tr>\n",
       "      <th>1230</th>\n",
       "      <td>1231</td>\n",
       "      <td>1412</td>\n",
       "      <td>970</td>\n",
       "      <td>2</td>\n",
       "      <td>B</td>\n",
       "      <td>0</td>\n",
       "    </tr>\n",
       "    <tr>\n",
       "      <th>1231</th>\n",
       "      <td>1232</td>\n",
       "      <td>1412</td>\n",
       "      <td>970</td>\n",
       "      <td>2</td>\n",
       "      <td>B</td>\n",
       "      <td>0</td>\n",
       "    </tr>\n",
       "    <tr>\n",
       "      <th>1232</th>\n",
       "      <td>1233</td>\n",
       "      <td>1412</td>\n",
       "      <td>970</td>\n",
       "      <td>2</td>\n",
       "      <td>B</td>\n",
       "      <td>0</td>\n",
       "    </tr>\n",
       "    <tr>\n",
       "      <th>1238</th>\n",
       "      <td>1239</td>\n",
       "      <td>1412</td>\n",
       "      <td>970</td>\n",
       "      <td>2</td>\n",
       "      <td>B</td>\n",
       "      <td>0</td>\n",
       "    </tr>\n",
       "  </tbody>\n",
       "</table>\n",
       "<p>1209 rows × 6 columns</p>\n",
       "</div>"
      ],
      "text/plain": [
       "        No  Description  Weight_for_1  Quantity Typ Active\n",
       "0        1         2320          3360         1   B      0\n",
       "1        2         2320          3360         1   B      0\n",
       "2        3         3230          6400         1   B      0\n",
       "3        4         2830          6230         2   C      0\n",
       "4        5         2625          5000         2   C      0\n",
       "...    ...          ...           ...       ...  ..    ...\n",
       "1229  1230         1412           970         2   B      0\n",
       "1230  1231         1412           970         2   B      0\n",
       "1231  1232         1412           970         2   B      0\n",
       "1232  1233         1412           970         2   B      0\n",
       "1238  1239         1412           970         2   B      0\n",
       "\n",
       "[1209 rows x 6 columns]"
      ]
     },
     "execution_count": 4,
     "metadata": {},
     "output_type": "execute_result"
    }
   ],
   "source": [
    "#Ekstrakcja danych i organizacja danych - pozostawienie tylko kolumn wymaganych, pozostawienie tylko projektów zakończonych\n",
    "zlecenia_df1 = zlecenia_df.drop(columns=['work_preparation_Plan','work_preparation_done', 'Finnish_week', 'Pre_fabrication_plan'], axis=1)\n",
    "zlecenia_df2 = zlecenia_df1.loc[-zlecenia_df1['Active'].isin(['Active'])]\n",
    "godziny_df = godziny_df[['No','Wszystkie.wykonane']]\n",
    "zlecenia_df2"
   ]
  },
  {
   "cell_type": "code",
   "execution_count": 5,
   "metadata": {
    "scrolled": true
   },
   "outputs": [],
   "source": [
    "#Left join po No z godzinami\n",
    "zlecenia_df2 = pd.merge(zlecenia_df2, godziny_df, how='left', on='No')"
   ]
  },
  {
   "cell_type": "code",
   "execution_count": 6,
   "metadata": {},
   "outputs": [],
   "source": [
    "#Wyliczenie realnych równoważników zleceń\n",
    "zlecenia_df2['Labor rate'] = zlecenia_df2['Wszystkie.wykonane'] / (zlecenia_df2['Weight_for_1'] * zlecenia_df2['Quantity']) "
   ]
  },
  {
   "cell_type": "code",
   "execution_count": 7,
   "metadata": {},
   "outputs": [],
   "source": [
    "typ_A = zlecenia_df2.loc[zlecenia_df2['Typ'].isin(['A'])].sort_values(by=['Labor rate'])\n",
    "typ_B = zlecenia_df2.loc[zlecenia_df2['Typ'].isin(['B'])].sort_values(by=['Labor rate'])\n",
    "typ_C = zlecenia_df2.loc[zlecenia_df2['Typ'].isin(['C'])].sort_values(by=['Labor rate'])"
   ]
  },
  {
   "cell_type": "code",
   "execution_count": 8,
   "metadata": {},
   "outputs": [
    {
     "data": {
      "text/plain": [
       "<AxesSubplot:xlabel='Weight_for_1', ylabel='Labor rate'>"
      ]
     },
     "execution_count": 8,
     "metadata": {},
     "output_type": "execute_result"
    },
    {
     "data": {
      "image/png": "[encoded data removed]",
      "text/plain": [
       "<Figure size 432x288 with 1 Axes>"
      ]
     },
     "metadata": {
      "needs_background": "light"
     },
     "output_type": "display_data"
    }
   ],
   "source": [
    "#Typ_A\n",
    "typ_A_plot = typ_A.plot.scatter(x='Weight_for_1',\n",
    "                      y='Labor rate',\n",
    "                      c='DarkBlue')\n",
    "\n",
    "typ_A_plot"
   ]
  },
  {
   "cell_type": "code",
   "execution_count": 9,
   "metadata": {},
   "outputs": [
    {
     "data": {
      "text/plain": [
       "<AxesSubplot:xlabel='Weight_for_1', ylabel='Labor rate'>"
      ]
     },
     "execution_count": 9,
     "metadata": {},
     "output_type": "execute_result"
    },
    {
     "data": {
      "image/png": "[encoded data removed]",
      "text/plain": [
       "<Figure size 432x288 with 1 Axes>"
      ]
     },
     "metadata": {
      "needs_background": "light"
     },
     "output_type": "display_data"
    }
   ],
   "source": [
    "typ_B_plot = typ_B.plot.scatter(x='Weight_for_1',\n",
    "                      y='Labor rate',\n",
    "                      c='DarkBlue')\n",
    "\n",
    "typ_B_plot"
   ]
  },
  {
   "cell_type": "code",
   "execution_count": 10,
   "metadata": {},
   "outputs": [
    {
     "data": {
      "text/plain": [
       "<AxesSubplot:xlabel='Weight_for_1', ylabel='Labor rate'>"
      ]
     },
     "execution_count": 10,
     "metadata": {},
     "output_type": "execute_result"
    },
    {
     "data": {
      "image/png": "[encoded data removed]",
      "text/plain": [
       "<Figure size 432x288 with 1 Axes>"
      ]
     },
     "metadata": {
      "needs_background": "light"
     },
     "output_type": "display_data"
    }
   ],
   "source": [
    "typ_C_plot = typ_C.plot.scatter(x='Weight_for_1',\n",
    "                      y='Labor rate',\n",
    "                      c='DarkBlue')\n",
    "\n",
    "typ_C_plot"
   ]
  },
  {
   "cell_type": "code",
   "execution_count": 11,
   "metadata": {},
   "outputs": [
    {
     "name": "stdout",
     "output_type": "stream",
     "text": [
      "             No  Description  Weight_for_1  Quantity  Wszystkie.wykonane  \\\n",
      "Typ                                                                        \n",
      "A    675.484536  1326.376289   1116.469072  2.422680          333.615979   \n",
      "B    620.742321  2260.571672   3659.675768  1.571672          439.688567   \n",
      "C    560.081585  2193.731935   3562.121212  1.951049          548.962704   \n",
      "\n",
      "     Labor rate  \n",
      "Typ              \n",
      "A      0.251804  \n",
      "B      0.110871  \n",
      "C      0.092586  \n"
     ]
    }
   ],
   "source": [
    "#Pogrupowanie po Typie i wyciągnięcie średniej - tak dla szybkiego zerknięcia czy ma to sens\n",
    "zlecenia_mean = zlecenia_df2.groupby(['Typ']).mean()\n",
    "\n",
    "print(zlecenia_mean)"
   ]
  },
  {
   "cell_type": "code",
   "execution_count": 12,
   "metadata": {},
   "outputs": [],
   "source": [
    "#Zlecenia które nie zostały opracowane wypełnione zostaną wartościami przewidzianymi w prekalkulacji\n",
    "\n",
    "#A - dziób(wędka)\n",
    "    #Labor rate\t130 rbg/1000kg\n",
    "#Assembling\t0,4\n",
    "#Welding\t0,33\n",
    "#Grindining\t0,07\n",
    "#Else\t\t0,2\n",
    "\n",
    "#B - belka(środek)\n",
    "#Labor rate\t100 rbg/1000kg\n",
    "#Assembling\t0,3\n",
    "#Welding\t0,4\n",
    "#Grindining\t0,2\n",
    "#Else\t\t0,1\n",
    "\n",
    "#C - gniazdo(końcówka)\n",
    "#Labor rate\t120 rbg/1000kg\n",
    "#Assembling\t0,25\n",
    "#Welding\t0,4\n",
    "#Grindining\t0,2\n",
    "#Else\t\t0,15"
   ]
  },
  {
   "cell_type": "code",
   "execution_count": null,
   "metadata": {},
   "outputs": [],
   "source": [
    "#Jak zorbić buckety na 500kg i z tego średnie na etapach"
   ]
  }
 ],
 "metadata": {
  "kernelspec": {
   "display_name": "Python 3",
   "language": "python",
   "name": "python3"
  },
  "language_info": {
   "codemirror_mode": {
    "name": "ipython",
    "version": 3
   },
   "file_extension": ".py",
   "mimetype": "text/x-python",
   "name": "python",
   "nbconvert_exporter": "python",
   "pygments_lexer": "ipython3",
   "version": "3.8.5"
  },
  "metadata": {
   "interpreter": {
    "hash": "7e3b1c001a2e3b2dda53a659d9ba383cf21df267547fac142546a8eb1ef08fcc"
   }
  }
 },
 "nbformat": 4,
 "nbformat_minor": 4
}
