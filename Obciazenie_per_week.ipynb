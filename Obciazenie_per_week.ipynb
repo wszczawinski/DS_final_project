{
 "cells": [
  {
   "cell_type": "code",
   "execution_count": 1,
   "metadata": {},
   "outputs": [],
   "source": [
    "import numpy as np\n",
    "import pandas as pd\n",
    "import os\n",
    "import matplotlib.pyplot as plt"
   ]
  },
  {
   "cell_type": "code",
   "execution_count": 2,
   "metadata": {},
   "outputs": [
    {
     "name": "stdout",
     "output_type": "stream",
     "text": [
      "C:\\Users\\ksobo\\Desktop\\DS_final_project\n"
     ]
    }
   ],
   "source": [
    "#crate paths for csv files\n",
    "CURR_DIR = os.getcwd()\n",
    "print(CURR_DIR)\n",
    "zlecenia_path = os.path.join(CURR_DIR, 'Zlecenia.csv')\n",
    "godziny_path = os.path.join(CURR_DIR, 'Godziny.csv')"
   ]
  },
  {
   "cell_type": "code",
   "execution_count": 3,
   "metadata": {},
   "outputs": [],
   "source": [
    "#Zaciagniecie baz danych\n",
    "obciazenie_df = pd.read_csv(zlecenia_path, sep=';')\n",
    "godziny_df = pd.read_csv(godziny_path, sep=';')"
   ]
  },
  {
   "cell_type": "code",
   "execution_count": 4,
   "metadata": {
    "scrolled": true
   },
   "outputs": [],
   "source": [
    "#Ekstrakcja danych i organizacja danych - pozostawienie tylko kolumn wymaganych, pozostawienie tylko projektów \"w toku\"\n",
    "obciazenie_df1 = obciazenie_df.drop(columns=['work_preparation_Plan','work_preparation_done'], axis=1)\n",
    "obciazenie_df2 = obciazenie_df1.loc[obciazenie_df1['Active'].isin(['Active'])]\n",
    "godziny_df = godziny_df[['No','Wszystkie.technol','Wszystkie.wykonane']]"
   ]
  },
  {
   "cell_type": "code",
   "execution_count": 5,
   "metadata": {
    "scrolled": true
   },
   "outputs": [],
   "source": [
    "#Left join po No z godzinami\n",
    "obciazenie_df2 = pd.merge(obciazenie_df2, godziny_df, how='left', on='No')\n",
    "\n",
    "#wypelnienie NaN zerami\n",
    "obciazenie_df2['Wszystkie.technol'] = obciazenie_df2['Wszystkie.technol'].fillna(0)\n",
    "obciazenie_df2['Wszystkie.wykonane'] = obciazenie_df2['Wszystkie.wykonane'].fillna(0)"
   ]
  },
  {
   "cell_type": "code",
   "execution_count": 6,
   "metadata": {},
   "outputs": [],
   "source": [
    "#Zdefiniowanie tygodnia obecnego\n",
    "#przyjmujemy obecny jako 202112(tydzień zaciągnięcia danych),\n",
    "#docelowo może zostać zamieniony funkcją obliczającą jak poniżej\n",
    "#WPISAĆ FUNKCJĘ!!!!!!!!!\n",
    "\n",
    "current_week = 202112"
   ]
  },
  {
   "cell_type": "code",
   "execution_count": 7,
   "metadata": {},
   "outputs": [],
   "source": [
    "#Zmiana terminu rozpoczęcia oraz zakończenia na obecny jeżeli miało mieć ono miejsce w przeszłości\n",
    "obciazenie_df2.loc[obciazenie_df2['Finnish_week'] < current_week, 'Finnish_week'] = current_week\n",
    "\n",
    "obciazenie_df2.loc[obciazenie_df2['Pre_fabrication_plan'] < current_week, 'Pre_fabrication_plan'] = current_week"
   ]
  },
  {
   "cell_type": "code",
   "execution_count": 8,
   "metadata": {},
   "outputs": [],
   "source": [
    "#Zlecenia które nie zostały opracowane wypełnione zostaną wartościami przewidzianymi w prekalkulacji\n",
    "\n",
    "#A - dziób(wędka)\n",
    "#Labor rate\t130 rbg/1000kg\n",
    "#Assembling\t0,4\n",
    "#Welding\t0,33\n",
    "#Grindining\t0,07\n",
    "#Else\t\t0,2\n",
    "\n",
    "#B - belka(środek)\n",
    "#Labor rate\t100 rbg/1000kg\n",
    "#Assembling\t0,3\n",
    "#Welding\t0,4\n",
    "#Grindining\t0,2\n",
    "#Else\t\t0,1\n",
    "\n",
    "#C - gniazdo(końcówka)\n",
    "#Labor rate\t120 rbg/1000kg\n",
    "#Assembling\t0,25\n",
    "#Welding\t0,4\n",
    "#Grindining\t0,2\n",
    "#Else\t\t0,15\n",
    "\n",
    "obciazenie_df2.loc[obciazenie_df2['Typ'] == 'A', 'Typ'] = 0.13\n",
    "obciazenie_df2.loc[obciazenie_df2['Typ'] == 'B', 'Typ'] = 0.1\n",
    "obciazenie_df2.loc[obciazenie_df2['Typ'] == 'C', 'Typ'] = 0.12\n",
    "\n",
    "# IF Wszystkie technol = NaN -> Weight for 1 * Quantity * Typ\n",
    "\n",
    "obciazenie_df2.loc[obciazenie_df2['Wszystkie.technol'] == 0, 'Wszystkie.technol'] = obciazenie_df2['Weight_for_1'] * obciazenie_df2['Quantity'] * obciazenie_df2['Typ']"
   ]
  },
  {
   "cell_type": "code",
   "execution_count": 9,
   "metadata": {},
   "outputs": [],
   "source": [
    "#Obliczenie kolumn - pozostałego czasu na produkcję oraz pozostałych godzin\n",
    "obciazenie_df2['Weeks_left'] = (obciazenie_df2['Finnish_week']) - (obciazenie_df2['Pre_fabrication_plan'])\n",
    "\n",
    "#Jeżeli >52 to należy odjąc od wyniku 48 (100 - (ilość tyg w danym roku - def 52))\n",
    "#Może tak się stać dla projektów na przełomie roku 202206-202146 = 60!\n",
    "obciazenie_df2.loc[obciazenie_df2['Weeks_left'] > 52, 'Weeks_left'] = obciazenie_df2['Weeks_left'] - 48\n",
    "\n",
    "#Jeżeli zlecenie jest opóźnione i wynik pozostałego czasu będzie wynosił 0\n",
    "#to zostanie on doliczony do obecnego tygodnia\n",
    "obciazenie_df2.loc[obciazenie_df2['Weeks_left'] < 1, 'Weeks_left'] = 1\n",
    "\n",
    "#funkcja if niestety nie znalazła odpowiedniego zastosowania - loc jest polecany jako dobra praktyka"
   ]
  },
  {
   "cell_type": "code",
   "execution_count": 10,
   "metadata": {},
   "outputs": [],
   "source": [
    "#Wyliczenie pozostałych godzin pracy\n",
    "obciazenie_df2['Work_h_left'] = (obciazenie_df2['Wszystkie.technol']) - (obciazenie_df2['Wszystkie.wykonane'])\n",
    "\n",
    "#Jeżeli zlecenie przekroczyło godziny praca liczona jest w nadgodzinach - przyjmuje się 0 do obciażenia\n",
    "obciazenie_df2.loc[obciazenie_df2['Work_h_left'] < 0, 'Work_h_left'] = 0"
   ]
  },
  {
   "cell_type": "code",
   "execution_count": 11,
   "metadata": {},
   "outputs": [
    {
     "data": {
      "text/plain": [
       "0      0\n",
       "1      0\n",
       "2      0\n",
       "3      7\n",
       "4     64\n",
       "      ..\n",
       "58    40\n",
       "59    80\n",
       "60    64\n",
       "61    80\n",
       "62    80\n",
       "Name: Workload_per_week, Length: 63, dtype: int32"
      ]
     },
     "execution_count": 11,
     "metadata": {},
     "output_type": "execute_result"
    }
   ],
   "source": [
    "#Podzielenie pozostałej pracy równomiernie na tygodnie\n",
    "obciazenie_df2['Workload_per_week'] = (obciazenie_df2['Work_h_left']) / (obciazenie_df2['Weeks_left'])\n",
    "obciazenie_df2['Workload_per_week'].astype(int)"
   ]
  },
  {
   "cell_type": "code",
   "execution_count": 12,
   "metadata": {},
   "outputs": [],
   "source": [
    "#Dodanie obciazenia zarezerwowanego na dany tydzien w zależności od rozpoczecia i zakonczenia danego zlecenia\n",
    "\n",
    "for i in range (0,14):\n",
    "    conditions = [\n",
    "        (obciazenie_df2['Pre_fabrication_plan'] <= current_week+i) & (obciazenie_df2['Finnish_week'] >= current_week+i),\n",
    "        (obciazenie_df2['Pre_fabrication_plan'] > current_week+i) & (obciazenie_df2['Finnish_week'] < current_week+i)]\n",
    "    choices = [1, 0]\n",
    "    obciazenie_df2[current_week+i] = np.select(conditions, choices, default='0')"
   ]
  },
  {
   "cell_type": "code",
   "execution_count": 13,
   "metadata": {},
   "outputs": [],
   "source": [
    "#Wykonanie tabeli z ostatecznymi wynikami\n",
    "obciazenie_df3 = obciazenie_df2.iloc[: ,-15:].astype(int)\n",
    "obciazenie_result = obciazenie_df3.iloc[: ,-14:].multiply(obciazenie_df3['Workload_per_week'], axis=\"index\")\n",
    "obciazenie_result_df = pd.DataFrame({'Required Manpower': obciazenie_result.sum(axis=0)}).astype(int)"
   ]
  },
  {
   "cell_type": "code",
   "execution_count": 14,
   "metadata": {},
   "outputs": [
    {
     "data": {
      "text/plain": [
       "<AxesSubplot:xlabel='Week'>"
      ]
     },
     "execution_count": 14,
     "metadata": {},
     "output_type": "execute_result"
    },
    {
     "data": {
      "image/png": "[encoded data removed]",
      "text/plain": [
       "<Figure size 432x288 with 1 Axes>"
      ]
     },
     "metadata": {
      "needs_background": "light"
     },
     "output_type": "display_data"
    }
   ],
   "source": [
    "#Wykres podstawa\n",
    "obciazenie_result_df['Week'] = obciazenie_result_df.index\n",
    "obciazenie_result_df.plot.bar(x='Week', y='Required Manpower', rot=0)"
   ]
  },
  {
   "cell_type": "code",
   "execution_count": 15,
   "metadata": {},
   "outputs": [
    {
     "data": {
      "text/plain": [
       "<BarContainer object of 14 artists>"
      ]
     },
     "execution_count": 15,
     "metadata": {},
     "output_type": "execute_result"
    },
    {
     "data": {
      "image/png": "[encoded data removed]",
      "text/plain": [
       "<Figure size 432x288 with 1 Axes>"
      ]
     },
     "metadata": {
      "needs_background": "light"
     },
     "output_type": "display_data"
    }
   ],
   "source": [
    "#Wykres plotly\n",
    "plt.bar(obciazenie_result_df['Week'], obciazenie_result_df['Required Manpower'])"
   ]
  }
 ],
 "metadata": {
  "kernelspec": {
   "display_name": "Python 3",
   "language": "python",
   "name": "python3"
  },
  "language_info": {
   "codemirror_mode": {
    "name": "ipython",
    "version": 3
   },
   "file_extension": ".py",
   "mimetype": "text/x-python",
   "name": "python",
   "nbconvert_exporter": "python",
   "pygments_lexer": "ipython3",
   "version": "3.8.5"
  },
  "metadata": {
   "interpreter": {
    "hash": "7e3b1c001a2e3b2dda53a659d9ba383cf21df267547fac142546a8eb1ef08fcc"
   }
  }
 },
 "nbformat": 4,
 "nbformat_minor": 4
}
