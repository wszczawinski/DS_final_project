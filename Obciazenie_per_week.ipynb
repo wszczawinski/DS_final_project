{
 "cells": [
  {
   "cell_type": "code",
   "execution_count": 26,
   "metadata": {},
   "outputs": [],
   "source": [
    "import numpy as np\n",
    "import pandas as pd\n",
    "import os"
   ]
  },
  {
   "cell_type": "code",
   "execution_count": 42,
   "metadata": {},
   "outputs": [
    {
     "output_type": "stream",
     "name": "stdout",
     "text": [
      "/Users/w.szczawinski/Projects/DS_final_project\n"
     ]
    }
   ],
   "source": [
    "#crate paths for csv files\n",
    "CURR_DIR = os.getcwd()\n",
    "print(CURR_DIR)\n",
    "zlecenia_path = os.path.join(CURR_DIR, 'Zlecenia.csv')\n",
    "godziny_path = os.path.join(CURR_DIR, 'Godziny.csv')"
   ]
  },
  {
   "cell_type": "code",
   "execution_count": 41,
   "metadata": {},
   "outputs": [],
   "source": [
    "#Zaciagniecie baz danych\n",
    "obciazenie_df = pd.read_csv(zlecenia_path, sep=';')\n",
    "godziny_df = pd.read_csv(godziny_path, sep=';')"
   ]
  },
  {
   "cell_type": "code",
   "execution_count": 30,
   "metadata": {
    "scrolled": true
   },
   "outputs": [],
   "source": [
    "#Ekstrakcja danych i organizacja danych - pozostawienie tylko kolumn wymaganych, pozostawienie tylko projektów \"w toku\" - nie działa\n",
    "obciazenie_df1 = obciazenie_df.drop(columns=['work_preparation_Plan','work_preparation_done'], axis=1)\n",
    "obciazenie_df2 = obciazenie_df1.loc[obciazenie_df1['Active'].isin(['Active'])]"
   ]
  },
  {
   "cell_type": "code",
   "execution_count": 31,
   "metadata": {
    "scrolled": true
   },
   "outputs": [],
   "source": [
    "#Left join po No z godzinami\n",
    "obciazenie_df2 = pd.merge(obciazenie_df2, godziny_df, how='left', on='No')\n",
    "\n",
    "#TEST!!!!! wypelnienie NaN zerami\n",
    "#obciazenie_df2['Wszystkie.technol'] = obciazenie_df2['Wszystkie.technol'].fillna(0)\n",
    "#obciazenie_df2['Wszystkie.wykonane'] = obciazenie_df2['Wszystkie.wykonane'].fillna(0)"
   ]
  },
  {
   "cell_type": "code",
   "execution_count": 32,
   "metadata": {},
   "outputs": [],
   "source": [
    "#Zdefiniowanie tygodnia obecnego\n",
    "#przyjmujemy obecny jako 202112(tydzień zaciągnięcia danych),\n",
    "#docelowo może zostać zamieniony funkcją obliczającą jak poniżej\n",
    "#WPISAĆ FUNKCJĘ!!!!!!!!!\n",
    "\n",
    "current_week = 202112\n",
    "\n"
   ]
  },
  {
   "cell_type": "code",
   "execution_count": 33,
   "metadata": {},
   "outputs": [],
   "source": [
    "#Zmiana terminu rozpoczęcia oraz zakończenia na obecny jeżeli miało mieć ono miejsce w przeszłości\n",
    "# !!!NIE DZIAŁA!!!!\n",
    "\n",
    "#if  obciazenie_df2['Finnish_week'] < current_week:\n",
    "#    obciazenie_df2['Finnish_week'] == current_week\n",
    "#else:\n",
    "#    obciazenie_df2['Finnish_week'] == obciazenie_df2['Finnish_week']\n",
    "    \n",
    "#if  obciazenie_df2['Pre_fabrication_plan'] < current_week:\n",
    "#    obciazenie_df2['Pre_fabrication_plan'] = current_week\n",
    "#else:\n",
    "#    obciazenie_df2['Pre_fabrication_plan'] = obciazenie_df2['Finnish_week']"
   ]
  },
  {
   "cell_type": "code",
   "execution_count": 34,
   "metadata": {},
   "outputs": [],
   "source": [
    "#Zastapienie NaN w godzinach wartościami przewidzianymi z prekalkulacji\n",
    "\n",
    "#A - dziób(wędka)\n",
    "#Labor rate\t130 rbg/1000kg\n",
    "#Assembling\t0,4\n",
    "#Welding\t0,33\n",
    "#Grindining\t0,07\n",
    "#Else\t\t0,2\n",
    "\n",
    "#B - belka(środek)\n",
    "#Labor rate\t100 rbg/1000kg\n",
    "#Assembling\t0,3\n",
    "#Welding\t0,4\n",
    "#Grindining\t0,2\n",
    "#Else\t\t0,1\n",
    "\n",
    "#C - końcóka(środek)\n",
    "#Labor rate\t120 rbg/1000kg\n",
    "#Assembling\t0,25\n",
    "#Welding\t0,4\n",
    "#Grindining\t0,2\n",
    "#Else\t\t0,15\n",
    "\n",
    "# IF Wszystkie technol = NaN -> Weight for 1 * Quantity * Typ (IF A - 0,13 elif B - 0,1 elif C - 0,12)"
   ]
  },
  {
   "cell_type": "code",
   "execution_count": 35,
   "metadata": {},
   "outputs": [],
   "source": [
    "#Obliczenie kolumn - pozostałego czasu na produkcję oraz pozostałych godzin jeżeli >52 to odjąc od wyniku ilość tyg w danym roku - def 52\n",
    "obciazenie_df2['Weeks_left'] = (obciazenie_df2['Finnish_week']) - (obciazenie_df2['Pre_fabrication_plan'])"
   ]
  },
  {
   "cell_type": "code",
   "execution_count": 36,
   "metadata": {},
   "outputs": [],
   "source": [
    "#???????Czy liczyć nadwyżkę 20% jako zabezpieczenie przy przekroczeniach??????\n",
    "obciazenie_df2['Work_h_left'] = (obciazenie_df2['Wszystkie.technol']) - (obciazenie_df2['Wszystkie.wykonane'])\n",
    "\n",
    "#Jeżeli zlecenie zlecenie przekroczyło godziny praca liczona jest w nadgodzinach - przyjmuje się 0 do obciażenia"
   ]
  },
  {
   "cell_type": "code",
   "execution_count": 37,
   "metadata": {},
   "outputs": [
    {
     "output_type": "execute_result",
     "data": {
      "text/plain": [
       "0    -0.169202\n",
       "1    -0.388889\n",
       "2    -0.780172\n",
       "3     2.370370\n",
       "4     9.242857\n",
       "        ...   \n",
       "58         NaN\n",
       "59         NaN\n",
       "60         NaN\n",
       "61         NaN\n",
       "62         NaN\n",
       "Name: Workload_per_week, Length: 63, dtype: float64"
      ]
     },
     "metadata": {},
     "execution_count": 37
    }
   ],
   "source": [
    "#Podzielenie pozostałej pracy równomiernie na tygodnie\n",
    "obciazenie_df2['Workload_per_week'] = (obciazenie_df2['Work_h_left']) / (obciazenie_df2['Weeks_left'])\n",
    "obciazenie_df2['Workload_per_week']"
   ]
  },
  {
   "cell_type": "code",
   "execution_count": 38,
   "metadata": {},
   "outputs": [
    {
     "output_type": "stream",
     "name": "stderr",
     "text": [
      "<ipython-input-38-746ae2e974f9>:6: SettingWithCopyWarning: \nA value is trying to be set on a copy of a slice from a DataFrame.\nTry using .loc[row_indexer,col_indexer] = value instead\n\nSee the caveats in the documentation: https://pandas.pydata.org/pandas-docs/stable/user_guide/indexing.html#returning-a-view-versus-a-copy\n  obciazenie_df3[x+i]=0\n"
     ]
    },
    {
     "output_type": "execute_result",
     "data": {
      "text/plain": [
       "      No  Workload_per_week  202112  202113  202114  202115  202116  202117  \\\n",
       "0    191          -0.169202       0       0       0       0       0       0   \n",
       "1    192          -0.388889       0       0       0       0       0       0   \n",
       "2    870          -0.780172       0       0       0       0       0       0   \n",
       "3    908           2.370370       0       0       0       0       0       0   \n",
       "4   1015           9.242857       0       0       0       0       0       0   \n",
       "..   ...                ...     ...     ...     ...     ...     ...     ...   \n",
       "58  1268                NaN       0       0       0       0       0       0   \n",
       "59  1269                NaN       0       0       0       0       0       0   \n",
       "60  1270                NaN       0       0       0       0       0       0   \n",
       "61  1271                NaN       0       0       0       0       0       0   \n",
       "62  1272                NaN       0       0       0       0       0       0   \n",
       "\n",
       "    202118  202119  202120  202121  202122  202123  202124  \n",
       "0        0       0       0       0       0       0       0  \n",
       "1        0       0       0       0       0       0       0  \n",
       "2        0       0       0       0       0       0       0  \n",
       "3        0       0       0       0       0       0       0  \n",
       "4        0       0       0       0       0       0       0  \n",
       "..     ...     ...     ...     ...     ...     ...     ...  \n",
       "58       0       0       0       0       0       0       0  \n",
       "59       0       0       0       0       0       0       0  \n",
       "60       0       0       0       0       0       0       0  \n",
       "61       0       0       0       0       0       0       0  \n",
       "62       0       0       0       0       0       0       0  \n",
       "\n",
       "[63 rows x 15 columns]"
      ],
      "text/html": "<div>\n<style scoped>\n    .dataframe tbody tr th:only-of-type {\n        vertical-align: middle;\n    }\n\n    .dataframe tbody tr th {\n        vertical-align: top;\n    }\n\n    .dataframe thead th {\n        text-align: right;\n    }\n</style>\n<table border=\"1\" class=\"dataframe\">\n  <thead>\n    <tr style=\"text-align: right;\">\n      <th></th>\n      <th>No</th>\n      <th>Workload_per_week</th>\n      <th>202112</th>\n      <th>202113</th>\n      <th>202114</th>\n      <th>202115</th>\n      <th>202116</th>\n      <th>202117</th>\n      <th>202118</th>\n      <th>202119</th>\n      <th>202120</th>\n      <th>202121</th>\n      <th>202122</th>\n      <th>202123</th>\n      <th>202124</th>\n    </tr>\n  </thead>\n  <tbody>\n    <tr>\n      <th>0</th>\n      <td>191</td>\n      <td>-0.169202</td>\n      <td>0</td>\n      <td>0</td>\n      <td>0</td>\n      <td>0</td>\n      <td>0</td>\n      <td>0</td>\n      <td>0</td>\n      <td>0</td>\n      <td>0</td>\n      <td>0</td>\n      <td>0</td>\n      <td>0</td>\n      <td>0</td>\n    </tr>\n    <tr>\n      <th>1</th>\n      <td>192</td>\n      <td>-0.388889</td>\n      <td>0</td>\n      <td>0</td>\n      <td>0</td>\n      <td>0</td>\n      <td>0</td>\n      <td>0</td>\n      <td>0</td>\n      <td>0</td>\n      <td>0</td>\n      <td>0</td>\n      <td>0</td>\n      <td>0</td>\n      <td>0</td>\n    </tr>\n    <tr>\n      <th>2</th>\n      <td>870</td>\n      <td>-0.780172</td>\n      <td>0</td>\n      <td>0</td>\n      <td>0</td>\n      <td>0</td>\n      <td>0</td>\n      <td>0</td>\n      <td>0</td>\n      <td>0</td>\n      <td>0</td>\n      <td>0</td>\n      <td>0</td>\n      <td>0</td>\n      <td>0</td>\n    </tr>\n    <tr>\n      <th>3</th>\n      <td>908</td>\n      <td>2.370370</td>\n      <td>0</td>\n      <td>0</td>\n      <td>0</td>\n      <td>0</td>\n      <td>0</td>\n      <td>0</td>\n      <td>0</td>\n      <td>0</td>\n      <td>0</td>\n      <td>0</td>\n      <td>0</td>\n      <td>0</td>\n      <td>0</td>\n    </tr>\n    <tr>\n      <th>4</th>\n      <td>1015</td>\n      <td>9.242857</td>\n      <td>0</td>\n      <td>0</td>\n      <td>0</td>\n      <td>0</td>\n      <td>0</td>\n      <td>0</td>\n      <td>0</td>\n      <td>0</td>\n      <td>0</td>\n      <td>0</td>\n      <td>0</td>\n      <td>0</td>\n      <td>0</td>\n    </tr>\n    <tr>\n      <th>...</th>\n      <td>...</td>\n      <td>...</td>\n      <td>...</td>\n      <td>...</td>\n      <td>...</td>\n      <td>...</td>\n      <td>...</td>\n      <td>...</td>\n      <td>...</td>\n      <td>...</td>\n      <td>...</td>\n      <td>...</td>\n      <td>...</td>\n      <td>...</td>\n      <td>...</td>\n    </tr>\n    <tr>\n      <th>58</th>\n      <td>1268</td>\n      <td>NaN</td>\n      <td>0</td>\n      <td>0</td>\n      <td>0</td>\n      <td>0</td>\n      <td>0</td>\n      <td>0</td>\n      <td>0</td>\n      <td>0</td>\n      <td>0</td>\n      <td>0</td>\n      <td>0</td>\n      <td>0</td>\n      <td>0</td>\n    </tr>\n    <tr>\n      <th>59</th>\n      <td>1269</td>\n      <td>NaN</td>\n      <td>0</td>\n      <td>0</td>\n      <td>0</td>\n      <td>0</td>\n      <td>0</td>\n      <td>0</td>\n      <td>0</td>\n      <td>0</td>\n      <td>0</td>\n      <td>0</td>\n      <td>0</td>\n      <td>0</td>\n      <td>0</td>\n    </tr>\n    <tr>\n      <th>60</th>\n      <td>1270</td>\n      <td>NaN</td>\n      <td>0</td>\n      <td>0</td>\n      <td>0</td>\n      <td>0</td>\n      <td>0</td>\n      <td>0</td>\n      <td>0</td>\n      <td>0</td>\n      <td>0</td>\n      <td>0</td>\n      <td>0</td>\n      <td>0</td>\n      <td>0</td>\n    </tr>\n    <tr>\n      <th>61</th>\n      <td>1271</td>\n      <td>NaN</td>\n      <td>0</td>\n      <td>0</td>\n      <td>0</td>\n      <td>0</td>\n      <td>0</td>\n      <td>0</td>\n      <td>0</td>\n      <td>0</td>\n      <td>0</td>\n      <td>0</td>\n      <td>0</td>\n      <td>0</td>\n      <td>0</td>\n    </tr>\n    <tr>\n      <th>62</th>\n      <td>1272</td>\n      <td>NaN</td>\n      <td>0</td>\n      <td>0</td>\n      <td>0</td>\n      <td>0</td>\n      <td>0</td>\n      <td>0</td>\n      <td>0</td>\n      <td>0</td>\n      <td>0</td>\n      <td>0</td>\n      <td>0</td>\n      <td>0</td>\n      <td>0</td>\n    </tr>\n  </tbody>\n</table>\n<p>63 rows × 15 columns</p>\n</div>"
     },
     "metadata": {},
     "execution_count": 38
    }
   ],
   "source": [
    "#Podział obciążenia na tygodnie obecny+13 tyg\n",
    "obciazenie_df3 = obciazenie_df2[[\"No\", \"Workload_per_week\"]]\n",
    "\n",
    "x = current_week\n",
    "for i in range(0,13):\n",
    "    obciazenie_df3[x+i]=0\n",
    "\n",
    "obciazenie_df3"
   ]
  },
  {
   "cell_type": "code",
   "execution_count": 24,
   "metadata": {},
   "outputs": [],
   "source": [
    "#Dodanie obciazenia zarezerwowanego na dany tydzien w zależności od rozpoczecia i zakonczenia danego zlecenia\n",
    "#If prefabrication plan is >column index & <= finnish week -> column index.No zlecenia = Workload_per_week"
   ]
  },
  {
   "cell_type": "code",
   "execution_count": null,
   "metadata": {},
   "outputs": [],
   "source": [
    "#Zrobienie wykresu"
   ]
  },
  {
   "cell_type": "code",
   "execution_count": null,
   "metadata": {},
   "outputs": [],
   "source": []
  },
  {
   "cell_type": "code",
   "execution_count": null,
   "metadata": {},
   "outputs": [],
   "source": []
  }
 ],
 "metadata": {
  "kernelspec": {
   "name": "python395jvsc74a57bd07e3b1c001a2e3b2dda53a659d9ba383cf21df267547fac142546a8eb1ef08fcc",
   "display_name": "Python 3.9.5 64-bit ('DS_project': conda)"
  },
  "language_info": {
   "codemirror_mode": {
    "name": "ipython",
    "version": 3
   },
   "file_extension": ".py",
   "mimetype": "text/x-python",
   "name": "python",
   "nbconvert_exporter": "python",
   "pygments_lexer": "ipython3",
   "version": "3.9.5"
  },
  "metadata": {
   "interpreter": {
    "hash": "7e3b1c001a2e3b2dda53a659d9ba383cf21df267547fac142546a8eb1ef08fcc"
   }
  }
 },
 "nbformat": 4,
 "nbformat_minor": 4
}