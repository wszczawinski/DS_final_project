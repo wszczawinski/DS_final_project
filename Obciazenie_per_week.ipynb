{
 "cells": [
  {
   "cell_type": "code",
   "execution_count": 1,
   "metadata": {},
   "outputs": [],
   "source": [
    "import numpy as np\n",
    "import pandas as pd\n",
    "import os\n",
    "import matplotlib.pyplot as plt\n",
    "import datetime"
   ]
  },
  {
   "cell_type": "code",
   "execution_count": 2,
   "metadata": {},
   "outputs": [
    {
     "name": "stdout",
     "output_type": "stream",
     "text": [
      "C:\\Users\\Konrad\\Documents\\DS_final_project\n"
     ]
    }
   ],
   "source": [
    "#crate paths for csv files\n",
    "CURR_DIR = os.getcwd()\n",
    "print(CURR_DIR)\n",
    "zlecenia_path = os.path.join(CURR_DIR, 'Zlecenia.csv')\n",
    "godziny_path = os.path.join(CURR_DIR, 'Godziny.csv')\n",
    "New_Precalc_path = os.path.join(CURR_DIR, 'New_Precalc.csv')"
   ]
  },
  {
   "cell_type": "code",
   "execution_count": 3,
   "metadata": {},
   "outputs": [],
   "source": [
    "#Zaciagniecie baz danych\n",
    "obciazenie_df = pd.read_csv(zlecenia_path, sep=';')\n",
    "godziny_df = pd.read_csv(godziny_path, sep=';')\n",
    "New_Precalc_df = pd.read_csv(New_Precalc_path, sep=';')"
   ]
  },
  {
   "cell_type": "code",
   "execution_count": 4,
   "metadata": {
    "scrolled": true
   },
   "outputs": [],
   "source": [
    "#Ekstrakcja danych i organizacja danych - pozostawienie tylko kolumn wymaganych, pozostawienie tylko projektów \"w toku\"\n",
    "obciazenie_df1 = obciazenie_df.drop(columns=['work_preparation_Plan','work_preparation_done'], axis=1)\n",
    "obciazenie_df2 = obciazenie_df1.loc[obciazenie_df1['Active'].isin(['Active'])]\n",
    "godziny_df = godziny_df[['No','Wszystkie.technol','Wszystkie.wykonane']]"
   ]
  },
  {
   "cell_type": "code",
   "execution_count": 5,
   "metadata": {
    "scrolled": true
   },
   "outputs": [],
   "source": [
    "#Left join po No z godzinami\n",
    "obciazenie_df2 = pd.merge(obciazenie_df2, godziny_df, how='left', on='No')\n",
    "\n",
    "\n",
    "#wypelnienie NaN zerami\n",
    "obciazenie_df2['Wszystkie.technol'] = obciazenie_df2['Wszystkie.technol'].fillna(0)\n",
    "obciazenie_df2['Wszystkie.wykonane'] = obciazenie_df2['Wszystkie.wykonane'].fillna(0)"
   ]
  },
  {
   "cell_type": "code",
   "execution_count": 6,
   "metadata": {},
   "outputs": [],
   "source": [
    "#Zdefiniowanie tygodnia obecnego przyjmujemy obecny jako 202112 - tydzień zaciągnięcia danych z baz,\n",
    "current_week = 202112"
   ]
  },
  {
   "cell_type": "code",
   "execution_count": 7,
   "metadata": {},
   "outputs": [],
   "source": [
    "#docelowo może zostać zamieniony funkcją obliczającą jak poniżej\n",
    "#today = datetime.date.today()\n",
    "#year = today.isocalendar()[0]\n",
    "#wk = today.isocalendar()[1]\n",
    "#current_week = int(str(year) + str(wk))\n",
    "#current_week"
   ]
  },
  {
   "cell_type": "code",
   "execution_count": 8,
   "metadata": {},
   "outputs": [],
   "source": [
    "#Zmiana terminu rozpoczęcia oraz zakończenia na obecny jeżeli miało mieć ono miejsce w przeszłości\n",
    "obciazenie_df2.loc[obciazenie_df2['Finnish_week'] < current_week, 'Finnish_week'] = current_week\n",
    "\n",
    "obciazenie_df2.loc[obciazenie_df2['Pre_fabrication_plan'] < current_week, 'Pre_fabrication_plan'] = current_week"
   ]
  },
  {
   "cell_type": "code",
   "execution_count": 9,
   "metadata": {},
   "outputs": [],
   "source": [
    "#Zlecenia które nie zostały opracowane wypełnione zostaną wartościami przewidzianymi w prekalkulacji\n",
    "\n",
    "#A - dziób(wędka)\n",
    "#Labor rate\t160 rbg/1000kg\n",
    "#Assembling\t0,4\n",
    "#Welding\t0,33\n",
    "#Grindining\t0,07\n",
    "#Else\t\t0,2\n",
    "\n",
    "#B - belka(środek)\n",
    "#Labor rate\t120 rbg/1000kg\n",
    "#Assembling\t0,3\n",
    "#Welding\t0,4\n",
    "#Grindining\t0,2\n",
    "#Else\t\t0,1\n",
    "\n",
    "#C - gniazdo(końcówka)\n",
    "#Labor rate\t140 rbg/1000kg\n",
    "#Assembling\t0,25\n",
    "#Welding\t0,4\n",
    "#Grindining\t0,2\n",
    "#Else\t\t0,15\n",
    "\n",
    "obciazenie_df2.loc[obciazenie_df2['Typ'] == 'A', 'Typ'] = 0.16\n",
    "obciazenie_df2.loc[obciazenie_df2['Typ'] == 'B', 'Typ'] = 0.12\n",
    "obciazenie_df2.loc[obciazenie_df2['Typ'] == 'C', 'Typ'] = 0.14\n",
    "\n",
    "# IF Wszystkie technol = NaN -> Weight for 1 * Quantity * Typ\n",
    "\n",
    "obciazenie_df2.loc[obciazenie_df2['Wszystkie.technol'] == 0, 'Wszystkie.technol'] = obciazenie_df2['Weight_for_1'] * obciazenie_df2['Quantity'] * obciazenie_df2['Typ']"
   ]
  },
  {
   "cell_type": "code",
   "execution_count": 10,
   "metadata": {},
   "outputs": [],
   "source": [
    "#Obliczenie kolumn - pozostałego czasu na produkcję oraz pozostałych godzin\n",
    "obciazenie_df2['Weeks_left'] = (obciazenie_df2['Finnish_week']) - (obciazenie_df2['Pre_fabrication_plan'])\n",
    "\n",
    "#Jeżeli >52 to należy odjąc od wyniku 48 (100 - (ilość tyg w danym roku - def 52))\n",
    "#Może tak się stać dla projektów na przełomie roku 202206-202146 = 60!\n",
    "obciazenie_df2.loc[obciazenie_df2['Weeks_left'] > 52, 'Weeks_left'] = obciazenie_df2['Weeks_left'] - 48\n",
    "\n",
    "#Jeżeli zlecenie jest opóźnione i wynik pozostałego czasu będzie wynosił 0\n",
    "#to zostanie on doliczony do obecnego tygodnia\n",
    "obciazenie_df2.loc[obciazenie_df2['Weeks_left'] < 1, 'Weeks_left'] = 1\n",
    "\n",
    "#funkcja if niestety nie znalazła odpowiedniego zastosowania - loc jest polecany jako dobra praktyka"
   ]
  },
  {
   "cell_type": "code",
   "execution_count": 11,
   "metadata": {},
   "outputs": [],
   "source": [
    "#Wyliczenie pozostałych godzin pracy\n",
    "obciazenie_df2['Work_h_left'] = (obciazenie_df2['Wszystkie.technol']) - (obciazenie_df2['Wszystkie.wykonane'])\n",
    "\n",
    "#Jeżeli zlecenie przekroczyło godziny praca liczona jest w nadgodzinach - przyjmuje się 0 do obciażenia\n",
    "obciazenie_df2.loc[obciazenie_df2['Work_h_left'] < 0, 'Work_h_left'] = 0"
   ]
  },
  {
   "cell_type": "code",
   "execution_count": 12,
   "metadata": {},
   "outputs": [
    {
     "data": {
      "text/plain": [
       "0      0\n",
       "1      0\n",
       "2      0\n",
       "3      7\n",
       "4     64\n",
       "      ..\n",
       "58    48\n",
       "59    96\n",
       "60    76\n",
       "61    96\n",
       "62    96\n",
       "Name: Workload_per_week, Length: 63, dtype: int32"
      ]
     },
     "execution_count": 12,
     "metadata": {},
     "output_type": "execute_result"
    }
   ],
   "source": [
    "#Podzielenie pozostałej pracy równomiernie na tygodnie i dodanie do dt\n",
    "obciazenie_df2['Workload_per_week'] = (obciazenie_df2['Work_h_left']) / (obciazenie_df2['Weeks_left'])\n",
    "obciazenie_df2['Workload_per_week'].astype(int)"
   ]
  },
  {
   "cell_type": "code",
   "execution_count": 13,
   "metadata": {},
   "outputs": [],
   "source": [
    "#Dodanie obciazenia zarezerwowanego na dany tydzien w zależności od rozpoczecia i zakonczenia danego zlecenia.\n",
    "#Wykorzystanie zmiennej current_week_loop w funkcji if - aby w tygodniach na przełomie roku pokazywała poprawne oznaczenia tygodni.\n",
    "\n",
    "for i in range (0,13):\n",
    "    current_week_loop = current_week+i\n",
    "    conditions = [\n",
    "        (obciazenie_df2['Pre_fabrication_plan'] <= current_week_loop) & (obciazenie_df2['Finnish_week'] >= current_week_loop),\n",
    "        (obciazenie_df2['Pre_fabrication_plan'] > current_week_loop) & (obciazenie_df2['Finnish_week'] < current_week_loop)]\n",
    "    choices = [1, 0]\n",
    "    \n",
    "    if current_week_loop > 202153 :\n",
    "        current_week_loop += 48\n",
    "    else :\n",
    "        current_week_loop\n",
    "        \n",
    "    obciazenie_df2[current_week_loop] = np.select(conditions, choices, default='0') "
   ]
  },
  {
   "cell_type": "code",
   "execution_count": 14,
   "metadata": {},
   "outputs": [],
   "source": [
    "#Wykonanie tabeli z ostatecznymi wynikami\n",
    "obciazenie_df3 = obciazenie_df2.iloc[: ,-14:].astype(int)\n",
    "obciazenie_result = obciazenie_df3.iloc[: ,-13:].multiply(obciazenie_df3['Workload_per_week'], axis=\"index\")\n",
    "obciazenie_result_df = pd.DataFrame({'Required Manpower': obciazenie_result.sum(axis=0)}).astype(int)"
   ]
  },
  {
   "cell_type": "code",
   "execution_count": 15,
   "metadata": {},
   "outputs": [
    {
     "data": {
      "image/png": "[encoded data removed]",
      "text/plain": [
       "<Figure size 432x288 with 1 Axes>"
      ]
     },
     "metadata": {
      "needs_background": "light"
     },
     "output_type": "display_data"
    }
   ],
   "source": [
    "#Wykres plotly\n",
    "obciazenie_result_df['Week'] = obciazenie_result_df.index\n",
    "plt.bar(obciazenie_result_df['Week'], obciazenie_result_df['Required Manpower'])\n",
    "plt.xlabel('Week')\n",
    "plt.ylabel('Required Manpower')\n",
    "plt.title('Required capacity per Week')\n",
    "plt.grid(color='#95a5a6', linestyle='--', linewidth=0.5, axis='y', alpha=0.7)\n",
    "plt.xscale('linear')"
   ]
  },
  {
   "cell_type": "code",
   "execution_count": 16,
   "metadata": {
    "scrolled": true
   },
   "outputs": [
    {
     "data": {
      "image/png": "[encoded data removed]",
      "text/plain": [
       "<Figure size 432x288 with 1 Axes>"
      ]
     },
     "metadata": {
      "needs_background": "light"
     },
     "output_type": "display_data"
    }
   ],
   "source": [
    "#W celu ułatwienia analiz obciążenia wielu pracodawców stosuje w obliczeniach jednostkę Manweek = 40 rbg / tydzień\n",
    "obciazenie_result_df['Manweeks'] = obciazenie_result_df['Required Manpower']/40\n",
    "obciazenie_result_df['Week'] = obciazenie_result_df.index\n",
    "plt.bar(obciazenie_result_df['Week'], obciazenie_result_df['Manweeks'])\n",
    "plt.xlabel('Week')\n",
    "plt.ylabel('Manweeks')\n",
    "plt.title('Required capacity per Week')\n",
    "plt.grid(color='#95a5a6', linestyle='--', linewidth=0.5, axis='y', alpha=0.7)\n",
    "plt.xscale('linear')"
   ]
  }
 ],
 "metadata": {
  "kernelspec": {
   "display_name": "Python 3",
   "language": "python",
   "name": "python3"
  },
  "language_info": {
   "codemirror_mode": {
    "name": "ipython",
    "version": 3
   },
   "file_extension": ".py",
   "mimetype": "text/x-python",
   "name": "python",
   "nbconvert_exporter": "python",
   "pygments_lexer": "ipython3",
   "version": "3.8.5"
  },
  "metadata": {
   "interpreter": {
    "hash": "7e3b1c001a2e3b2dda53a659d9ba383cf21df267547fac142546a8eb1ef08fcc"
   }
  }
 },
 "nbformat": 4,
 "nbformat_minor": 4
}
