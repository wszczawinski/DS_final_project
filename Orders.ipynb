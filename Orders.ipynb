{
 "metadata": {
  "language_info": {
   "codemirror_mode": {
    "name": "ipython",
    "version": 3
   },
   "file_extension": ".py",
   "mimetype": "text/x-python",
   "name": "python",
   "nbconvert_exporter": "python",
   "pygments_lexer": "ipython3",
   "version": "3.9.5"
  },
  "orig_nbformat": 2,
  "kernelspec": {
   "name": "python395jvsc74a57bd07e3b1c001a2e3b2dda53a659d9ba383cf21df267547fac142546a8eb1ef08fcc",
   "display_name": "Python 3.9.5 64-bit ('DS_project': conda)"
  },
  "metadata": {
   "interpreter": {
    "hash": "7e3b1c001a2e3b2dda53a659d9ba383cf21df267547fac142546a8eb1ef08fcc"
   }
  }
 },
 "nbformat": 4,
 "nbformat_minor": 2,
 "cells": [
  {
   "cell_type": "code",
   "execution_count": 1,
   "metadata": {},
   "outputs": [],
   "source": [
    "import numpy as np\n",
    "import pandas as pd\n",
    "import os"
   ]
  },
  {
   "cell_type": "code",
   "execution_count": 3,
   "metadata": {},
   "outputs": [
    {
     "output_type": "stream",
     "name": "stdout",
     "text": [
      "/Users/w.szczawinski/Projects/DS_final_project\n"
     ]
    }
   ],
   "source": [
    "#crate paths for csv files\n",
    "CURR_DIR = os.getcwd()\n",
    "print(CURR_DIR)\n",
    "orders_path = os.path.join(CURR_DIR, 'Zlecenia.csv')"
   ]
  },
  {
   "cell_type": "code",
   "execution_count": 4,
   "metadata": {},
   "outputs": [],
   "source": [
    "#upload data\n",
    "orders_df = pd.read_csv(orders_path, sep=';')"
   ]
  },
  {
   "cell_type": "code",
   "execution_count": 5,
   "metadata": {},
   "outputs": [
    {
     "output_type": "execute_result",
     "data": {
      "text/plain": [
       "   No  Description  Weight_for_1  Quantity Typ  Finnish_week Active  \\\n",
       "0   1         2320          3360         1   B        201618      0   \n",
       "1   2         2320          3360         1   B        201621      0   \n",
       "2   3         3230          6400         1   B        201615      0   \n",
       "3   4         2830          6230         2   C        201626      0   \n",
       "4   5         2625          5000         2   C        201617      0   \n",
       "5   6         2425          4260         2   C        201619      0   \n",
       "6   7         2825          5380         2   B        201615      0   \n",
       "7   8         3535          8540         2   B        201612      0   \n",
       "8   9         1566          1120         2   B        201621      0   \n",
       "9  10         3636          9050         1   B        201644      0   \n",
       "\n",
       "   work_preparation_Plan  work_preparation_done  Pre_fabrication_plan  \n",
       "0                 201552                  42324                201602  \n",
       "1                 201604                  42324                201606  \n",
       "2                 201605                  42345                201607  \n",
       "3                 201603                  42164                201604  \n",
       "4                 201605                  42325                201607  \n",
       "5                 201603                  42325                201605  \n",
       "6                 201603                  42327                201605  \n",
       "7                 201602                  42327                201604  \n",
       "8                 201551                  42328                201553  \n",
       "9                 201620                  42331                201622  "
      ],
      "text/html": "<div>\n<style scoped>\n    .dataframe tbody tr th:only-of-type {\n        vertical-align: middle;\n    }\n\n    .dataframe tbody tr th {\n        vertical-align: top;\n    }\n\n    .dataframe thead th {\n        text-align: right;\n    }\n</style>\n<table border=\"1\" class=\"dataframe\">\n  <thead>\n    <tr style=\"text-align: right;\">\n      <th></th>\n      <th>No</th>\n      <th>Description</th>\n      <th>Weight_for_1</th>\n      <th>Quantity</th>\n      <th>Typ</th>\n      <th>Finnish_week</th>\n      <th>Active</th>\n      <th>work_preparation_Plan</th>\n      <th>work_preparation_done</th>\n      <th>Pre_fabrication_plan</th>\n    </tr>\n  </thead>\n  <tbody>\n    <tr>\n      <th>0</th>\n      <td>1</td>\n      <td>2320</td>\n      <td>3360</td>\n      <td>1</td>\n      <td>B</td>\n      <td>201618</td>\n      <td>0</td>\n      <td>201552</td>\n      <td>42324</td>\n      <td>201602</td>\n    </tr>\n    <tr>\n      <th>1</th>\n      <td>2</td>\n      <td>2320</td>\n      <td>3360</td>\n      <td>1</td>\n      <td>B</td>\n      <td>201621</td>\n      <td>0</td>\n      <td>201604</td>\n      <td>42324</td>\n      <td>201606</td>\n    </tr>\n    <tr>\n      <th>2</th>\n      <td>3</td>\n      <td>3230</td>\n      <td>6400</td>\n      <td>1</td>\n      <td>B</td>\n      <td>201615</td>\n      <td>0</td>\n      <td>201605</td>\n      <td>42345</td>\n      <td>201607</td>\n    </tr>\n    <tr>\n      <th>3</th>\n      <td>4</td>\n      <td>2830</td>\n      <td>6230</td>\n      <td>2</td>\n      <td>C</td>\n      <td>201626</td>\n      <td>0</td>\n      <td>201603</td>\n      <td>42164</td>\n      <td>201604</td>\n    </tr>\n    <tr>\n      <th>4</th>\n      <td>5</td>\n      <td>2625</td>\n      <td>5000</td>\n      <td>2</td>\n      <td>C</td>\n      <td>201617</td>\n      <td>0</td>\n      <td>201605</td>\n      <td>42325</td>\n      <td>201607</td>\n    </tr>\n    <tr>\n      <th>5</th>\n      <td>6</td>\n      <td>2425</td>\n      <td>4260</td>\n      <td>2</td>\n      <td>C</td>\n      <td>201619</td>\n      <td>0</td>\n      <td>201603</td>\n      <td>42325</td>\n      <td>201605</td>\n    </tr>\n    <tr>\n      <th>6</th>\n      <td>7</td>\n      <td>2825</td>\n      <td>5380</td>\n      <td>2</td>\n      <td>B</td>\n      <td>201615</td>\n      <td>0</td>\n      <td>201603</td>\n      <td>42327</td>\n      <td>201605</td>\n    </tr>\n    <tr>\n      <th>7</th>\n      <td>8</td>\n      <td>3535</td>\n      <td>8540</td>\n      <td>2</td>\n      <td>B</td>\n      <td>201612</td>\n      <td>0</td>\n      <td>201602</td>\n      <td>42327</td>\n      <td>201604</td>\n    </tr>\n    <tr>\n      <th>8</th>\n      <td>9</td>\n      <td>1566</td>\n      <td>1120</td>\n      <td>2</td>\n      <td>B</td>\n      <td>201621</td>\n      <td>0</td>\n      <td>201551</td>\n      <td>42328</td>\n      <td>201553</td>\n    </tr>\n    <tr>\n      <th>9</th>\n      <td>10</td>\n      <td>3636</td>\n      <td>9050</td>\n      <td>1</td>\n      <td>B</td>\n      <td>201644</td>\n      <td>0</td>\n      <td>201620</td>\n      <td>42331</td>\n      <td>201622</td>\n    </tr>\n  </tbody>\n</table>\n</div>"
     },
     "metadata": {},
     "execution_count": 5
    }
   ],
   "source": [
    "orders_df.head(10)"
   ]
  },
  {
   "cell_type": "code",
   "execution_count": null,
   "metadata": {},
   "outputs": [],
   "source": []
  },
  {
   "cell_type": "code",
   "execution_count": null,
   "metadata": {},
   "outputs": [],
   "source": []
  },
  {
   "cell_type": "code",
   "execution_count": null,
   "metadata": {},
   "outputs": [],
   "source": []
  }
 ]
}